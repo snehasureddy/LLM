{
  "nbformat": 4,
  "nbformat_minor": 0,
  "metadata": {
    "colab": {
      "provenance": []
    },
    "kernelspec": {
      "name": "python3",
      "display_name": "Python 3"
    },
    "language_info": {
      "name": "python"
    }
  },
  "cells": [
    {
      "cell_type": "code",
      "source": [
        "!pip install together"
      ],
      "metadata": {
        "colab": {
          "base_uri": "https://localhost:8080/",
          "height": 878
        },
        "id": "Et_VFuXG6jLK",
        "outputId": "65a12c61-3112-4c72-ca96-0ab0c65f990a"
      },
      "execution_count": null,
      "outputs": [
        {
          "output_type": "stream",
          "name": "stdout",
          "text": [
            "Collecting together\n",
            "  Downloading together-1.3.10-py3-none-any.whl.metadata (11 kB)\n",
            "Requirement already satisfied: aiohttp<4.0.0,>=3.9.3 in /usr/local/lib/python3.10/dist-packages (from together) (3.11.10)\n",
            "Requirement already satisfied: click<9.0.0,>=8.1.7 in /usr/local/lib/python3.10/dist-packages (from together) (8.1.7)\n",
            "Requirement already satisfied: eval-type-backport<0.3.0,>=0.1.3 in /usr/local/lib/python3.10/dist-packages (from together) (0.2.0)\n",
            "Requirement already satisfied: filelock<4.0.0,>=3.13.1 in /usr/local/lib/python3.10/dist-packages (from together) (3.16.1)\n",
            "Requirement already satisfied: numpy>=1.23.5 in /usr/local/lib/python3.10/dist-packages (from together) (1.26.4)\n",
            "Collecting pillow<11.0.0,>=10.3.0 (from together)\n",
            "  Downloading pillow-10.4.0-cp310-cp310-manylinux_2_28_x86_64.whl.metadata (9.2 kB)\n",
            "Requirement already satisfied: pyarrow>=10.0.1 in /usr/local/lib/python3.10/dist-packages (from together) (17.0.0)\n",
            "Requirement already satisfied: pydantic<3.0.0,>=2.6.3 in /usr/local/lib/python3.10/dist-packages (from together) (2.10.3)\n",
            "Requirement already satisfied: requests<3.0.0,>=2.31.0 in /usr/local/lib/python3.10/dist-packages (from together) (2.32.3)\n",
            "Requirement already satisfied: rich<14.0.0,>=13.8.1 in /usr/local/lib/python3.10/dist-packages (from together) (13.9.4)\n",
            "Requirement already satisfied: tabulate<0.10.0,>=0.9.0 in /usr/local/lib/python3.10/dist-packages (from together) (0.9.0)\n",
            "Requirement already satisfied: tqdm<5.0.0,>=4.66.2 in /usr/local/lib/python3.10/dist-packages (from together) (4.67.1)\n",
            "Requirement already satisfied: typer<0.16,>=0.9 in /usr/local/lib/python3.10/dist-packages (from together) (0.15.1)\n",
            "Requirement already satisfied: aiohappyeyeballs>=2.3.0 in /usr/local/lib/python3.10/dist-packages (from aiohttp<4.0.0,>=3.9.3->together) (2.4.4)\n",
            "Requirement already satisfied: aiosignal>=1.1.2 in /usr/local/lib/python3.10/dist-packages (from aiohttp<4.0.0,>=3.9.3->together) (1.3.2)\n",
            "Requirement already satisfied: async-timeout<6.0,>=4.0 in /usr/local/lib/python3.10/dist-packages (from aiohttp<4.0.0,>=3.9.3->together) (4.0.3)\n",
            "Requirement already satisfied: attrs>=17.3.0 in /usr/local/lib/python3.10/dist-packages (from aiohttp<4.0.0,>=3.9.3->together) (24.3.0)\n",
            "Requirement already satisfied: frozenlist>=1.1.1 in /usr/local/lib/python3.10/dist-packages (from aiohttp<4.0.0,>=3.9.3->together) (1.5.0)\n",
            "Requirement already satisfied: multidict<7.0,>=4.5 in /usr/local/lib/python3.10/dist-packages (from aiohttp<4.0.0,>=3.9.3->together) (6.1.0)\n",
            "Requirement already satisfied: propcache>=0.2.0 in /usr/local/lib/python3.10/dist-packages (from aiohttp<4.0.0,>=3.9.3->together) (0.2.1)\n",
            "Requirement already satisfied: yarl<2.0,>=1.17.0 in /usr/local/lib/python3.10/dist-packages (from aiohttp<4.0.0,>=3.9.3->together) (1.18.3)\n",
            "Requirement already satisfied: annotated-types>=0.6.0 in /usr/local/lib/python3.10/dist-packages (from pydantic<3.0.0,>=2.6.3->together) (0.7.0)\n",
            "Requirement already satisfied: pydantic-core==2.27.1 in /usr/local/lib/python3.10/dist-packages (from pydantic<3.0.0,>=2.6.3->together) (2.27.1)\n",
            "Requirement already satisfied: typing-extensions>=4.12.2 in /usr/local/lib/python3.10/dist-packages (from pydantic<3.0.0,>=2.6.3->together) (4.12.2)\n",
            "Requirement already satisfied: charset-normalizer<4,>=2 in /usr/local/lib/python3.10/dist-packages (from requests<3.0.0,>=2.31.0->together) (3.4.0)\n",
            "Requirement already satisfied: idna<4,>=2.5 in /usr/local/lib/python3.10/dist-packages (from requests<3.0.0,>=2.31.0->together) (3.10)\n",
            "Requirement already satisfied: urllib3<3,>=1.21.1 in /usr/local/lib/python3.10/dist-packages (from requests<3.0.0,>=2.31.0->together) (2.2.3)\n",
            "Requirement already satisfied: certifi>=2017.4.17 in /usr/local/lib/python3.10/dist-packages (from requests<3.0.0,>=2.31.0->together) (2024.12.14)\n",
            "Requirement already satisfied: markdown-it-py>=2.2.0 in /usr/local/lib/python3.10/dist-packages (from rich<14.0.0,>=13.8.1->together) (3.0.0)\n",
            "Requirement already satisfied: pygments<3.0.0,>=2.13.0 in /usr/local/lib/python3.10/dist-packages (from rich<14.0.0,>=13.8.1->together) (2.18.0)\n",
            "Requirement already satisfied: shellingham>=1.3.0 in /usr/local/lib/python3.10/dist-packages (from typer<0.16,>=0.9->together) (1.5.4)\n",
            "Requirement already satisfied: mdurl~=0.1 in /usr/local/lib/python3.10/dist-packages (from markdown-it-py>=2.2.0->rich<14.0.0,>=13.8.1->together) (0.1.2)\n",
            "Downloading together-1.3.10-py3-none-any.whl (70 kB)\n",
            "\u001b[2K   \u001b[90m━━━━━━━━━━━━━━━━━━━━━━━━━━━━━━━━━━━━━━━━\u001b[0m \u001b[32m70.6/70.6 kB\u001b[0m \u001b[31m4.5 MB/s\u001b[0m eta \u001b[36m0:00:00\u001b[0m\n",
            "\u001b[?25hDownloading pillow-10.4.0-cp310-cp310-manylinux_2_28_x86_64.whl (4.5 MB)\n",
            "\u001b[2K   \u001b[90m━━━━━━━━━━━━━━━━━━━━━━━━━━━━━━━━━━━━━━━━\u001b[0m \u001b[32m4.5/4.5 MB\u001b[0m \u001b[31m48.7 MB/s\u001b[0m eta \u001b[36m0:00:00\u001b[0m\n",
            "\u001b[?25hInstalling collected packages: pillow, together\n",
            "  Attempting uninstall: pillow\n",
            "    Found existing installation: pillow 11.0.0\n",
            "    Uninstalling pillow-11.0.0:\n",
            "      Successfully uninstalled pillow-11.0.0\n",
            "Successfully installed pillow-10.4.0 together-1.3.10\n"
          ]
        },
        {
          "output_type": "display_data",
          "data": {
            "application/vnd.colab-display-data+json": {
              "pip_warning": {
                "packages": [
                  "PIL"
                ]
              },
              "id": "b94c2d9cc4524ad0af3fc3fd4a4d468a"
            }
          },
          "metadata": {}
        }
      ]
    },
    {
      "cell_type": "code",
      "source": [
        "prompt = \"\"\"\n",
        "\n",
        "Analyze the given geometry figure and provide a detailed description, including its type, classification, and key properties, such as symmetry, angles, and parallelism. Include all measurable dimensions like side lengths, angles, area, perimeter, or volume. Highlight significant elements, such as notable points (vertices, centroids) and lines (medians, tangents), and describe any relationships or patterns observed. Mention applicable theorems or principles, discuss spatial orientation, and note any markings or labels that add context. If any details are missing, state reasonable assumptions made in your interpretation.\n",
        "\n",
        "\n",
        "\n",
        "I want output in json in key values pair in structured format along with detailed caption as key in json using above data \"\"\""
      ],
      "metadata": {
        "id": "Ds34Up2wwxA8"
      },
      "execution_count": null,
      "outputs": []
    },
    {
      "cell_type": "code",
      "execution_count": null,
      "metadata": {
        "colab": {
          "base_uri": "https://localhost:8080/"
        },
        "id": "vCTtvYHd19cR",
        "outputId": "f22c2fb1-e9bf-4bda-efd9-a65e265ea693"
      },
      "outputs": [
        {
          "output_type": "stream",
          "name": "stdout",
          "text": [
            "The image presents a geometric figure consisting of a square inscribed within a circle. The square is positioned with its vertices aligned with the center of the circle, and its sides are parallel to the diameter of the circle. Key Properties:  Symmetry: The square exhibits rotational symmetry of order 4, meaning it looks the same after a rotation of 90 degrees around its center.  Angles: The square has right angles (90-degree angles) at each of its corners.  Parallelism: The sides of the square are parallel to the diameter of the circle, indicating that the square is inscribed in the circle.  Radius: The radius of the circle is equal to the length of the side of the square, as the square is inscribed in the circle.  Diameter: The diameter of the circle is equal to the diagonal of the square, which can be calculated using the Pythagorean theorem. Calculations:  Side Length of the Square: Let's assume the side length of the square is \"s\". Since the square is inscribed in the circle, the diagonal of the square is equal to the diameter of the circle, which is also \"s√2\" (using the Pythagorean theorem).  Radius of the Circle: The radius of the circle is half the diameter, so it is \"s/√2\".  Diameter of the Circle: The diameter of the circle is equal to the diagonal of the square, which is \"s√2\". JSON Output: Here is the JSON output in key-value pairs: ```json { \"figure_type\": \"square_inscribed_in_circle\", \"symmetry\": \"rotational_symmetry_of_order_4\", \"angles\": \"right_angles\", \"parallelism\": \"parallel_to_diameter\", \"radius\": \"s/√2\", \"diameter\": \"s√2\" } ``` This JSON output provides a structured representation of the geometric figure, highlighting its key properties and relationships.\n"
          ]
        }
      ],
      "source": [
        "from together import Together\n",
        "from PIL import Image\n",
        "import base64\n",
        "from io import BytesIO\n",
        "\n",
        "# Initialize the Together client\n",
        "client = Together(api_key='82f6c25f9caa331151d2883168f94ccf2eb6e8f864c4d02dd9db4ddff0a6b4cd')\n",
        "\n",
        "# Function to convert image to base64\n",
        "def image_to_base64(image):\n",
        "    buffered = BytesIO()\n",
        "    image.save(buffered, format=\"PNG\")\n",
        "    img_str = base64.b64encode(buffered.getvalue()).decode(\"utf-8\")\n",
        "    return img_str\n",
        "\n",
        "# Function to simulate the Q&A with an image and query\n",
        "def visual_question_answering(image_path, query, model_choice):\n",
        "    # Open the image\n",
        "    image = Image.open(image_path)\n",
        "\n",
        "    # Convert the image to base64\n",
        "    img_base64 = image_to_base64(image)\n",
        "\n",
        "    try:\n",
        "        # Send the request to Together API\n",
        "        response = client.chat.completions.create(\n",
        "            model=model_choice,\n",
        "            messages=[\n",
        "                {\n",
        "                    \"role\": \"user\",\n",
        "                    \"content\": [\n",
        "                        {\"type\": \"text\", \"text\": query},\n",
        "                        {\n",
        "                            \"type\": \"image_url\",\n",
        "                            \"image_url\": {\n",
        "                                \"url\": f\"data:image/jpeg;base64,{img_base64}\",\n",
        "                            },\n",
        "                        },\n",
        "                    ],\n",
        "                }\n",
        "            ],\n",
        "            max_tokens=512,\n",
        "            temperature=0.7,\n",
        "            top_p=0.8,\n",
        "            top_k=50,\n",
        "            repetition_penalty=1,\n",
        "            stop=[\"<|eot_id|>\", \"<|eom_id|>\"],\n",
        "            stream=True\n",
        "        )\n",
        "\n",
        "        # Initialize a variable to collect all parts of the response\n",
        "        full_response = \"\"\n",
        "\n",
        "        # Iterate through the response stream and collect the chunks\n",
        "        for token in response:\n",
        "            if hasattr(token, 'choices') and token.choices:  # Ensure choices exists and is not empty\n",
        "                # Append each chunk to the full response\n",
        "                full_response += token.choices[0].delta.content\n",
        "\n",
        "        # Check if any response was collected\n",
        "        if not full_response:\n",
        "            return \"No response received from the model.\"\n",
        "        else:\n",
        "            # Clean up the response to remove extra spaces or unwanted line breaks\n",
        "            cleaned_response = ' '.join(full_response.split())\n",
        "            return cleaned_response\n",
        "\n",
        "    except Exception as e:\n",
        "        return f\"Error: {e}\"\n",
        "\n",
        "image_path = \"/content/WhatsApp Image 2024-12-21 at 23.12.47.jpeg\"\n",
        "query = prompt\n",
        "model_choice = \"meta-llama/Llama-Vision-Free\"\n",
        "#model_choice=\"meta-llama/Llama-3.2-11B-Vision-Instruct-Turbo\"\n",
        "#model_choice=\"meta-llama/Llama-3.2-90B-Vision-Instruct-Turbo\"\n",
        "response = visual_question_answering(image_path, query, model_choice)\n",
        "cleaned_response = response.replace('+', '').replace('*', '')\n",
        "print(cleaned_response)\n"
      ]
    },
    {
      "cell_type": "code",
      "source": [
        "response"
      ],
      "metadata": {
        "id": "j0isvf2b6Z9O",
        "colab": {
          "base_uri": "https://localhost:8080/",
          "height": 222
        },
        "outputId": "875a01e6-18af-4cd9-82eb-c91b92e33d26"
      },
      "execution_count": null,
      "outputs": [
        {
          "output_type": "execute_result",
          "data": {
            "text/plain": [
              "'The image presents a geometric figure consisting of a square inscribed within a circle. The square is positioned with its vertices aligned with the center of the circle, and its sides are parallel to the diameter of the circle. **Key Properties:** * **Symmetry:** The square exhibits rotational symmetry of order 4, meaning it looks the same after a rotation of 90 degrees around its center. * **Angles:** The square has right angles (90-degree angles) at each of its corners. * **Parallelism:** The sides of the square are parallel to the diameter of the circle, indicating that the square is inscribed in the circle. * **Radius:** The radius of the circle is equal to the length of the side of the square, as the square is inscribed in the circle. * **Diameter:** The diameter of the circle is equal to the diagonal of the square, which can be calculated using the Pythagorean theorem. **Calculations:** * **Side Length of the Square:** Let\\'s assume the side length of the square is \"s\". Since the square is inscribed in the circle, the diagonal of the square is equal to the diameter of the circle, which is also \"s√2\" (using the Pythagorean theorem). * **Radius of the Circle:** The radius of the circle is half the diameter, so it is \"s/√2\". * **Diameter of the Circle:** The diameter of the circle is equal to the diagonal of the square, which is \"s√2\". **JSON Output:** Here is the JSON output in key-value pairs: ```json { \"figure_type\": \"square_inscribed_in_circle\", \"symmetry\": \"rotational_symmetry_of_order_4\", \"angles\": \"right_angles\", \"parallelism\": \"parallel_to_diameter\", \"radius\": \"s/√2\", \"diameter\": \"s√2\" } ``` This JSON output provides a structured representation of the geometric figure, highlighting its key properties and relationships.'"
            ],
            "application/vnd.google.colaboratory.intrinsic+json": {
              "type": "string"
            }
          },
          "metadata": {},
          "execution_count": 5
        }
      ]
    },
    {
      "cell_type": "code",
      "source": [],
      "metadata": {
        "id": "pucCn1UhxsmO"
      },
      "execution_count": null,
      "outputs": []
    }
  ]
}